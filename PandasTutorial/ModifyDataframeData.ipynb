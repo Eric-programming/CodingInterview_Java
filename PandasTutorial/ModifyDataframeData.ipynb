{
 "cells": [
  {
   "cell_type": "markdown",
   "metadata": {},
   "source": [
    "<h1>Modify Dataframe Data</h1>"
   ]
  },
  {
   "cell_type": "code",
   "execution_count": 19,
   "metadata": {},
   "outputs": [],
   "source": [
    "import pandas as pd\n",
    "file = \"../data/AAPL\"\n",
    "df = pd.read_csv(f\"{file}.csv\") #Read csv data"
   ]
  },
  {
   "cell_type": "markdown",
   "metadata": {},
   "source": [
    "<h3>Change Columns in Dataframe</h3>"
   ]
  },
  {
   "cell_type": "code",
   "execution_count": 20,
   "metadata": {},
   "outputs": [
    {
     "name": "stdout",
     "output_type": "stream",
     "text": [
      "Column names before: Index(['Date', 'Open', 'High', 'Low', 'Close', 'Adj Close', 'Volume'], dtype='object')\n",
      "Column names after: Index(['date', 'open', 'high', 'low', 'close', 'adj close', 'volume'], dtype='object')\n"
     ]
    }
   ],
   "source": [
    "# Change all column names\n",
    "print(f\"Column names before: {df.columns}\")\n",
    "df.columns = [column.lower() for column in df.columns]\n",
    "print(f\"Column names after: {df.columns}\")\n"
   ]
  },
  {
   "cell_type": "code",
   "execution_count": 21,
   "metadata": {},
   "outputs": [
    {
     "name": "stdout",
     "output_type": "stream",
     "text": [
      "         time       price        high         low       close   adj close  \\\n",
      "0  2020-11-02  109.110001  110.680000  107.320000  108.769997  108.074883   \n",
      "1  2020-11-03  109.660004  111.489998  108.730003  110.440002  109.734207   \n",
      "2  2020-11-04  114.139999  115.589996  112.349998  114.949997  114.215378   \n",
      "\n",
      "      volume  \n",
      "0  122866900  \n",
      "1  107624400  \n",
      "2  138235500  \n"
     ]
    }
   ],
   "source": [
    "# Rename columns using dict\n",
    "column_mappings = {\"date\": \"time\", \"open\": \"price\"}\n",
    "df.rename(columns=column_mappings, inplace=True)\n",
    "print(df.head(3))"
   ]
  },
  {
   "cell_type": "markdown",
   "metadata": {},
   "source": [
    "Change Rows in DataFrame"
   ]
  },
  {
   "cell_type": "code",
   "execution_count": 22,
   "metadata": {},
   "outputs": [
    {
     "name": "stdout",
     "output_type": "stream",
     "text": [
      "Row data before: ['2020-11-03', 109.660004, 111.489998, 108.730003, 110.440002, 109.734207, 107624400]\n",
      "Row data after: ['2020-11-03', 110.0, 111.0, 109.0, 110.0, 110.0, 107624400]\n"
     ]
    }
   ],
   "source": [
    "# Change full row data\n",
    "print(f\"Row data before: {df.loc[1].to_list()}\")\n",
    "df.loc[1] = ['2020-11-03', 110, 111, 109, 110, 110, 107624400]\n",
    "print(f\"Row data after: {df.loc[1].to_list()}\")"
   ]
  },
  {
   "cell_type": "code",
   "execution_count": 23,
   "metadata": {},
   "outputs": [
    {
     "name": "stdout",
     "output_type": "stream",
     "text": [
      "Row data before: {'time': '2020-11-04', 'price': 114.139999, 'high': 115.589996, 'low': 112.349998, 'close': 114.949997, 'adj close': 114.215378, 'volume': 138235500}\n",
      "Row data after: {'time': '2020-11-04', 'price': 114.139999, 'high': 112.0, 'low': 108.0, 'close': 114.949997, 'adj close': 114.215378, 'volume': 138235500}\n"
     ]
    }
   ],
   "source": [
    "# Change row data with specific column(s)\n",
    "print(f\"Row data before: {df.loc[2].to_dict()}\")\n",
    "df.loc[2, [\"high\", \"low\"]] = [112, 108]\n",
    "print(f\"Row data after: {df.loc[2].to_dict()}\")"
   ]
  },
  {
   "cell_type": "code",
   "execution_count": 24,
   "metadata": {},
   "outputs": [
    {
     "name": "stdout",
     "output_type": "stream",
     "text": [
      "Before:          price        time\n",
      "0   109.110001  2020-11-02\n",
      "1   110.000000  2020-11-03\n",
      "2   114.139999  2020-11-04\n",
      "16  113.910004  2020-11-24\n",
      "After:     price        time\n",
      "0   115.0  2020-11-02\n",
      "1   115.0  2020-11-03\n",
      "2   115.0  2020-11-04\n",
      "16  115.0  2020-11-24\n"
     ]
    }
   ],
   "source": [
    "# Change row data with conditions\n",
    "row_condition = df[\"price\"] < 115\n",
    "print(f\"Before: {df.loc[row_condition, ['price', 'time']]}\")\n",
    "df.loc[row_condition, 'price'] = 115\n",
    "# Change row data with conditions\n",
    "print(f\"After: {df.loc[row_condition, ['price', 'time']]}\")\n"
   ]
  },
  {
   "cell_type": "code",
   "execution_count": 25,
   "metadata": {},
   "outputs": [
    {
     "name": "stdout",
     "output_type": "stream",
     "text": [
      "Before: Index(['time', 'price', 'high', 'low', 'close', 'adj close', 'volume'], dtype='object') \n",
      " {'time': '2020-11-02', 'price': 115.0, 'high': 110.68, 'low': 107.32, 'close': 108.769997, 'adj close': 108.074883, 'volume': 122866900}\n",
      "After: Index(['time', 'price', 'high', 'low', 'close', 'adj close', 'volume',\n",
      "       'price range'],\n",
      "      dtype='object') \n",
      " {'time': '2020-11-02', 'price': 115.0, 'high': 110.68, 'low': 107.32, 'close': 108.769997, 'adj close': 108.074883, 'volume': 122866900, 'price range': 3.3600000000000136}\n"
     ]
    }
   ],
   "source": [
    "# Add a new column\n",
    "print(f\"Before: {df.columns} \\n {df.loc[0].to_dict()}\")\n",
    "df[\"price range\"] = df['high'] - df['low'] #assume that low <= high\n",
    "print(f\"After: {df.columns} \\n {df.loc[0].to_dict()}\")"
   ]
  },
  {
   "cell_type": "code",
   "execution_count": 26,
   "metadata": {},
   "outputs": [
    {
     "name": "stdout",
     "output_type": "stream",
     "text": [
      "Before: Index(['time', 'price', 'high', 'low', 'close', 'adj close', 'volume',\n",
      "       'price range'],\n",
      "      dtype='object') \n",
      " {'time': '2020-11-02', 'price': 115.0, 'high': 110.68, 'low': 107.32, 'close': 108.769997, 'adj close': 108.074883, 'volume': 122866900, 'price range': 3.3600000000000136}\n",
      "After: Index(['time', 'price', 'high', 'low', 'close', 'adj close', 'volume'], dtype='object') \n",
      " {'time': '2020-11-02', 'price': 115.0, 'high': 110.68, 'low': 107.32, 'close': 108.769997, 'adj close': 108.074883, 'volume': 122866900}\n"
     ]
    }
   ],
   "source": [
    "# delete a column\n",
    "print(f\"Before: {df.columns} \\n {df.loc[0].to_dict()}\")\n",
    "del df[\"price range\"]\n",
    "print(f\"After: {df.columns} \\n {df.loc[0].to_dict()}\")"
   ]
  }
 ],
 "metadata": {
  "interpreter": {
   "hash": "aee8b7b246df8f9039afb4144a1f6fd8d2ca17a180786b69acc140d282b71a49"
  },
  "kernelspec": {
   "display_name": "Python 3.9.5 64-bit",
   "name": "python3"
  },
  "language_info": {
   "name": "python",
   "version": ""
  },
  "orig_nbformat": 4
 },
 "nbformat": 4,
 "nbformat_minor": 2
}