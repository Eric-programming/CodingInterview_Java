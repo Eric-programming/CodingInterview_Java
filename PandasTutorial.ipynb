{
 "cells": [
  {
   "cell_type": "markdown",
   "metadata": {},
   "source": [
    "Load Data into Pandas dataframe"
   ]
  },
  {
   "cell_type": "code",
   "execution_count": 2,
   "metadata": {},
   "outputs": [],
   "source": [
    "import pandas as pd\n",
    "df = pd.read_csv(\"data/AAPL.csv\") #Read csv data"
   ]
  },
  {
   "cell_type": "code",
   "execution_count": 3,
   "metadata": {},
   "outputs": [],
   "source": [
    "df_xlsx = pd.read_excel(\"data/AAPL.xlsx\") #Read excel data"
   ]
  },
  {
   "cell_type": "code",
   "execution_count": 4,
   "metadata": {},
   "outputs": [],
   "source": [
    "import json\n",
    "df_json = pd.read_json(\"data/AAPL.json\")"
   ]
  },
  {
   "cell_type": "code",
   "execution_count": 5,
   "metadata": {},
   "outputs": [
    {
     "name": "stdout",
     "output_type": "stream",
     "text": [
      "Index(['Date', 'Open', 'High', 'Low', 'Close', 'Adj Close', 'Volume'], dtype='object')\n"
     ]
    }
   ],
   "source": [
    "# Headers\n",
    "print(df.columns)"
   ]
  },
  {
   "cell_type": "code",
   "execution_count": 6,
   "metadata": {},
   "outputs": [
    {
     "name": "stdout",
     "output_type": "stream",
     "text": [
      "0    109.110001\n",
      "1    109.660004\n",
      "2    114.139999\n",
      "3    117.949997\n",
      "4    118.320000\n",
      "Name: Open, dtype: float64\n"
     ]
    }
   ],
   "source": [
    "# Read data with only one Column\n",
    "print(df['Open'][:5])"
   ]
  },
  {
   "cell_type": "code",
   "execution_count": 7,
   "metadata": {},
   "outputs": [
    {
     "name": "stdout",
     "output_type": "stream",
     "text": [
      "         High         Low        Open\n",
      "1  111.489998  108.730003  109.660004\n",
      "2  115.589996  112.349998  114.139999\n",
      "3  119.620003  116.870003  117.949997\n"
     ]
    }
   ],
   "source": [
    "# Read data with Multiple Columns\n",
    "print(df[[\"High\", \"Low\", \"Open\"]][1:4])"
   ]
  },
  {
   "cell_type": "markdown",
   "metadata": {},
   "source": [
    "Change Columns in Dataframe"
   ]
  },
  {
   "cell_type": "code",
   "execution_count": 29,
   "metadata": {},
   "outputs": [
    {
     "name": "stdout",
     "output_type": "stream",
     "text": [
      "Column names before: Index(['DATE', 'OPEN', 'HIGH', 'LOW', 'CLOSE', 'ADJ CLOSE', 'VOLUME'], dtype='object')\n",
      "Column names after: Index(['date', 'open', 'high', 'low', 'close', 'adj close', 'volume'], dtype='object')\n"
     ]
    }
   ],
   "source": [
    "# Change all column names\n",
    "print(f\"Column names before: {df.columns}\")\n",
    "df.columns = [column.lower() for column in df.columns]\n",
    "print(f\"Column names after: {df.columns}\")\n"
   ]
  },
  {
   "cell_type": "code",
   "execution_count": 30,
   "metadata": {},
   "outputs": [
    {
     "name": "stdout",
     "output_type": "stream",
     "text": [
      "           time       price        high         low       close   adj close  \\\n",
      "0    2020-11-02  109.110001  110.680000  107.320000  108.769997  108.074883   \n",
      "1    2020-11-03  110.000000  111.000000  109.000000  110.000000  110.000000   \n",
      "2    2020-11-04  114.139999  112.000000  108.000000  114.949997  114.215378   \n",
      "3    2020-11-05  117.949997  119.620003  116.870003  119.029999  118.269310   \n",
      "4    2020-11-06  118.320000  119.199997  116.129997  118.690002  118.134949   \n",
      "..          ...         ...         ...         ...         ...         ...   \n",
      "246  2021-10-25  148.679993  149.369995  147.619995  148.639999  148.639999   \n",
      "247  2021-10-26  149.330002  150.839996  149.009995  149.320007  149.320007   \n",
      "248  2021-10-27  149.360001  149.729996  148.490005  148.850006  148.850006   \n",
      "249  2021-10-28  149.820007  153.169998  149.720001  152.570007  152.570007   \n",
      "250  2021-10-29  147.220001  149.940002  146.410004  149.800003  149.800003   \n",
      "\n",
      "        volume  \n",
      "0    122866900  \n",
      "1    107624400  \n",
      "2    138235500  \n",
      "3    126387100  \n",
      "4    114457900  \n",
      "..         ...  \n",
      "246   50720600  \n",
      "247   60893400  \n",
      "248   56094900  \n",
      "249  100077900  \n",
      "250  124850400  \n",
      "\n",
      "[251 rows x 7 columns]\n"
     ]
    }
   ],
   "source": [
    "# Rename columns using dict\n",
    "column_mappings = {\"date\": \"time\", \"open\": \"price\"}\n",
    "df.rename(columns=column_mappings, inplace=True)\n",
    "print(df)"
   ]
  },
  {
   "cell_type": "markdown",
   "metadata": {},
   "source": [
    "Change Rows in DataFrame"
   ]
  },
  {
   "cell_type": "code",
   "execution_count": 26,
   "metadata": {},
   "outputs": [
    {
     "name": "stdout",
     "output_type": "stream",
     "text": [
      "Row data before: ['2020-11-03', 109.660004, 111.489998, 108.730003, 110.440002, 109.734207, 107624400]\n",
      "Row data after: ['2020-11-03', 110.0, 111.0, 109.0, 110.0, 110.0, 107624400]\n"
     ]
    }
   ],
   "source": [
    "# Change full row data\n",
    "print(f\"Row data before: {df.loc[1].to_list()}\")\n",
    "df.loc[1] = ['2020-11-03', 110, 111, 109, 110, 110, 107624400]\n",
    "print(f\"Row data after: {df.loc[1].to_list()}\")"
   ]
  },
  {
   "cell_type": "code",
   "execution_count": 27,
   "metadata": {},
   "outputs": [
    {
     "name": "stdout",
     "output_type": "stream",
     "text": [
      "Row data before: ['2020-11-04', 114.139999, 115.589996, 112.349998, 114.949997, 114.215378, 138235500]\n",
      "Row data after: ['2020-11-04', 114.139999, 112.0, 108.0, 114.949997, 114.215378, 138235500]\n"
     ]
    }
   ],
   "source": [
    "# Change row data with specific column(s)\n",
    "print(f\"Row data before: {df.loc[2].to_list()}\")\n",
    "df.loc[2, [\"high\", \"low\"]] = [112, 108]\n",
    "print(f\"Row data after: {df.loc[2].to_list()}\")"
   ]
  },
  {
   "cell_type": "code",
   "execution_count": 34,
   "metadata": {},
   "outputs": [
    {
     "name": "stdout",
     "output_type": "stream",
     "text": [
      "Before:          price        time\n",
      "0   109.110001  2020-11-02\n",
      "1   110.000000  2020-11-03\n",
      "2   114.139999  2020-11-04\n",
      "16  113.910004  2020-11-24\n",
      "After:     price        time\n",
      "0   115.0  2020-11-02\n",
      "1   115.0  2020-11-03\n",
      "2   115.0  2020-11-04\n",
      "16  115.0  2020-11-24\n"
     ]
    }
   ],
   "source": [
    "# Change row data with conditions\n",
    "row_condition = df[\"price\"] < 115\n",
    "print(f\"Before: {df.loc[row_condition, ['price', 'time']]}\")\n",
    "df.loc[row_condition, 'price'] = 115\n",
    "# Change row data with conditions\n",
    "print(f\"After: {df.loc[row_condition, ['price', 'time']]}\")\n"
   ]
  },
  {
   "cell_type": "code",
   "execution_count": 39,
   "metadata": {},
   "outputs": [
    {
     "name": "stdout",
     "output_type": "stream",
     "text": [
      "Before: Index(['time', 'price', 'high', 'low', 'close', 'adj close', 'volume'], dtype='object') \n",
      " {'time': '2020-11-02', 'price': 115.0, 'high': 110.68, 'low': 107.32, 'close': 108.769997, 'adj close': 108.074883, 'volume': 122866900}\n",
      "After: Index(['time', 'price', 'high', 'low', 'close', 'adj close', 'volume',\n",
      "       'price range'],\n",
      "      dtype='object') \n",
      " {'time': '2020-11-02', 'price': 115.0, 'high': 110.68, 'low': 107.32, 'close': 108.769997, 'adj close': 108.074883, 'volume': 122866900, 'price range': 3.3600000000000136}\n"
     ]
    }
   ],
   "source": [
    "# Add a new column\n",
    "print(f\"Before: {df.columns} \\n {df.loc[0].to_dict()}\")\n",
    "df[\"price range\"] = df['high'] - df['low'] #assume that low <= high\n",
    "print(f\"After: {df.columns} \\n {df.loc[0].to_dict()}\")"
   ]
  },
  {
   "cell_type": "code",
   "execution_count": 41,
   "metadata": {},
   "outputs": [
    {
     "name": "stdout",
     "output_type": "stream",
     "text": [
      "Before: Index(['time', 'price', 'high', 'low', 'close', 'adj close', 'volume',\n",
      "       'price range'],\n",
      "      dtype='object') \n",
      " {'time': '2020-11-02', 'price': 115.0, 'high': 110.68, 'low': 107.32, 'close': 108.769997, 'adj close': 108.074883, 'volume': 122866900, 'price range': 3.3600000000000136}\n",
      "After: Index(['time', 'price', 'high', 'low', 'close', 'adj close', 'volume'], dtype='object') \n",
      " {'time': '2020-11-02', 'price': 115.0, 'high': 110.68, 'low': 107.32, 'close': 108.769997, 'adj close': 108.074883, 'volume': 122866900}\n"
     ]
    }
   ],
   "source": [
    "# delete a column\n",
    "print(f\"Before: {df.columns} \\n {df.loc[0].to_dict()}\")\n",
    "del df[\"price range\"]\n",
    "print(f\"After: {df.columns} \\n {df.loc[0].to_dict()}\")"
   ]
  }
 ],
 "metadata": {
  "interpreter": {
   "hash": "aee8b7b246df8f9039afb4144a1f6fd8d2ca17a180786b69acc140d282b71a49"
  },
  "kernelspec": {
   "display_name": "Python 3.9.5 64-bit",
   "name": "python3"
  },
  "language_info": {
   "codemirror_mode": {
    "name": "ipython",
    "version": 3
   },
   "file_extension": ".py",
   "mimetype": "text/x-python",
   "name": "python",
   "nbconvert_exporter": "python",
   "pygments_lexer": "ipython3",
   "version": "3.9.5"
  },
  "orig_nbformat": 4
 },
 "nbformat": 4,
 "nbformat_minor": 2
}